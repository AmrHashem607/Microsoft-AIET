{
 "cells": [
  {
   "cell_type": "code",
   "execution_count": null,
   "id": "d33bc72d",
   "metadata": {},
   "outputs": [],
   "source": [
    "#                              Task 1\n",
    "# Q1: Write a Rectangle class in Python language, allowing you to build a rectangle with length and width attributes.\n",
    "\n",
    "class rectangle:\n",
    "    def __init__(self, length, width):\n",
    "        self.length = length\n",
    "        self.width = width\n",
    "\n",
    "        "
   ]
  },
  {
   "cell_type": "code",
   "execution_count": 1,
   "id": "cccf6edf",
   "metadata": {},
   "outputs": [],
   "source": [
    "# Q2: Create a Perimeter() method to calculate the perimeter of the rectangle and a Area() method to calculate the area of the rectangle.\n",
    "\n",
    "class rectangle:\n",
    "    def __init__(self,length,width):\n",
    "        self.length=length\n",
    "        self .width=width\n",
    "    def Perimeter(self):\n",
    "        return 2*(self.length+self.width)\n",
    "    def Area(self):\n",
    "        return self.length*self.width   \n"
   ]
  },
  {
   "cell_type": "code",
   "execution_count": 3,
   "id": "e75b4454",
   "metadata": {},
   "outputs": [
    {
     "name": "stdout",
     "output_type": "stream",
     "text": [
      "length : 10\n",
      "width : 20\n",
      "perimeter : 60\n",
      "area : 200\n"
     ]
    }
   ],
   "source": [
    "# Create a method display() that display the length, width, perimeter and area of an object created using an instantiation on rectangle class.\n",
    "\n",
    "class rectangle:\n",
    "    def __init__(self,length,width):\n",
    "        self.length=length  \n",
    "        self.width=width    \n",
    "    def Perimeter(self):\n",
    "        return 2*(self.length+self.width)\n",
    "    def Area(self):\n",
    "        return self.length*self.width\n",
    "    def display(self):\n",
    "        print (\"length :\",self.length)\n",
    "        print (\"width :\",self.width)\n",
    "        print (\"perimeter :\",self.Perimeter())\n",
    "        print (\"area :\",self.Area())\n",
    "\n",
    "num=rectangle(10,20)\n",
    "num.display()\n",
    "        "
   ]
  },
  {
   "cell_type": "code",
   "execution_count": null,
   "id": "399c859a",
   "metadata": {},
   "outputs": [
    {
     "name": "stdout",
     "output_type": "stream",
     "text": [
      "length : 10\n",
      "width : 20\n",
      "perimeter : 60\n",
      "area : 200\n",
      "Hight: 30\n",
      "volume : 6000\n"
     ]
    }
   ],
   "source": [
    "# Create a Parallelepipede child class inheriting from the Rectangle class and with a height attribute and another Volume() method to calculate the volume of the Parallelepipede.\n",
    "\n",
    "class rectangle:\n",
    "    def __init__(self,length,width):\n",
    "        self.length=length  \n",
    "        self.width=width    \n",
    "    def Perimeter(self):\n",
    "        return 2*(self.length+self.width)\n",
    "    def Area(self):\n",
    "        return self.length*self.width\n",
    "    def display(self):\n",
    "        print (\"length :\",self.length)\n",
    "        print (\"width :\",self.width)\n",
    "        print (\"perimeter :\",self.Perimeter())\n",
    "        print (\"area :\",self.Area())\n",
    "\n",
    "class Parallelepipede(rectangle):\n",
    "       def __init__(self,length,width,hight):\n",
    "            super().__init__(length,width)      \n",
    "            self.hight=hight \n",
    "       def Volume(self):\n",
    "            return self.Area()*self.hight\n",
    "       def display(self):\n",
    "            super().display()\n",
    "            print (\"Hight:\",self.hight)\n",
    "            print(\"volume :\",self.Volume())\n",
    "        \n",
    "num=Parallelepipede(10,20,30)\n",
    "num.display()\n",
    "#    super()      method is used to call the constructor of the parent class"
   ]
  },
  {
   "cell_type": "code",
   "execution_count": 12,
   "id": "1fefd538",
   "metadata": {},
   "outputs": [
    {
     "name": "stdout",
     "output_type": "stream",
     "text": [
      "name : Amr\n",
      "ege : 20\n"
     ]
    }
   ],
   "source": [
    "#                                Task 2\n",
    "#  Create a display() method that displays the name and age of an object created via the Person class.\n",
    "class person:\n",
    "    def __init__(self,name ,ege):\n",
    "        self.name=name\n",
    "        self.ege=ege\n",
    "    def display(self):\n",
    "        print(\"name :\",self.name)\n",
    "        print(\"ege :\",self.ege)\n",
    "num=person(\"Amr\",20)    \n",
    "num.display()"
   ]
  },
  {
   "cell_type": "code",
   "execution_count": 16,
   "id": "941cd695",
   "metadata": {},
   "outputs": [
    {
     "name": "stdout",
     "output_type": "stream",
     "text": [
      "name : Amr\n",
      "ege : 20\n",
      "section : CE \n"
     ]
    }
   ],
   "source": [
    "# Create a child class Student which inherits from the Person class and which also has a section attribute.\n",
    "# Create a method displayStudent() that displays the name, age and section of an object created via the Student class.\n",
    "class person:\n",
    "    def __init__(self,name ,ege):\n",
    "        self.name=name\n",
    "        self.ege=ege\n",
    "    def display(self):\n",
    "        print(\"name :\",self.name)\n",
    "        print(\"ege :\",self.ege)\n",
    "class student(person):\n",
    "    def __init__(self,name ,ege,section):\n",
    "        super().__init__(name,ege)\n",
    "        self.section=section\n",
    "    def display(self):\n",
    "        super().display()\n",
    "        print(\"section :\",self.section)\n",
    "num=student(\"Amr\",20,\"CE \")    \n",
    "num.display()"
   ]
  },
  {
   "cell_type": "code",
   "execution_count": 9,
   "id": "3825fa59",
   "metadata": {},
   "outputs": [
    {
     "name": "stdout",
     "output_type": "stream",
     "text": [
      "factorial of 5  = 120\n"
     ]
    }
   ],
   "source": [
    "# Create a method called Factorial() which allows to calculate the factorial of an integer. Test the method by instantiating the class.\n",
    "n=int(input(\"Enter a number :\"))\n",
    "class Coputation:\n",
    "    def factorial(self,n):\n",
    "        result=1\n",
    "        for i in range(1,n+1):\n",
    "            result*=i\n",
    "        return result\n",
    "num=Coputation()\n",
    "print(f\"factorial of {n}  =\",num.factorial(n))\n",
    "\n"
   ]
  },
  {
   "cell_type": "code",
   "execution_count": 7,
   "id": "f688c6a6",
   "metadata": {},
   "outputs": [
    {
     "name": "stdout",
     "output_type": "stream",
     "text": [
      "sum of 5 = 15.0\n"
     ]
    }
   ],
   "source": [
    "# Create a method called Sum() allowing to calculate the sum of the first n integers 1 + 2 + 3 + .. + n. Test this method.\n",
    "n=int(input(\"Enter a number :\"))\n",
    "class Coputation:\n",
    "    def sum(self,n):\n",
    "        result=0\n",
    "        result=n*(n+1)/2\n",
    "        return result\n",
    "num=Coputation()\n",
    "print(f\"sum of {n} =\",num.sum(n))"
   ]
  },
  {
   "cell_type": "code",
   "execution_count": null,
   "id": "e9547139",
   "metadata": {},
   "outputs": [],
   "source": [
    "# Create a method called testPrim() in the Calculation class to test the primality of a given integer. Test this method.\n",
    "n=int(input(\"Enter a number :\"))\n",
    "class calculation:\n",
    "    def testprim(self,n):\n",
    "        for i in range(2,n):\n",
    "            if n <= 1:\n",
    "                return False\n",
    "            if n%i==0:\n",
    "                return False\n",
    "        return True\n",
    "num=calculation()\n",
    "print(f\"testprim {n} =\",num.testprim(n))\n"
   ]
  },
  {
   "cell_type": "code",
   "execution_count": null,
   "id": "1aa42dac",
   "metadata": {},
   "outputs": [
    {
     "name": "stdout",
     "output_type": "stream",
     "text": [
      "Is 2 a prime ? True\n",
      "Is 7 a prime ? True\n",
      "Are 2 and 7 prime between them? True\n"
     ]
    }
   ],
   "source": [
    "# Create a method called testPrims() allowing to test if two numbers are prime between them\n",
    "class calculation:\n",
    "    def testPrim (self, n):\n",
    "        j = 0\n",
    "        for i in range (2, n + 1):\n",
    "            if (n% i == 0):\n",
    "                j = j + 1\n",
    "        if (j == 1):\n",
    "            return True\n",
    "        else:\n",
    "            return False\n",
    "    def testprims (self, n, m):\n",
    "        if (self.testPrim(n) and self.testPrim(m)):\n",
    "            return True\n",
    "        else:\n",
    "            return False\n",
    "num=calculation()\n",
    "a=int(input(\"Enter the first number: \"))\n",
    "b=int(input(\"Enter the second number: \"))\n",
    "print(f\"Is {a} a prime ? {num.testPrim(a)}\")\n",
    "print(f\"Is {b} a prime ? {num.testPrim(b)}\")\n",
    "print(f\"Are {a} and {b} prime between them? {num.testprims(a, b)}\")"
   ]
  },
  {
   "cell_type": "code",
   "execution_count": 34,
   "id": "0223fd2a",
   "metadata": {},
   "outputs": [
    {
     "name": "stdout",
     "output_type": "stream",
     "text": [
      "1 * 4 = 4\n",
      "2 * 4 = 8\n",
      "3 * 4 = 12\n",
      "4 * 4 = 16\n",
      "5 * 4 = 20\n",
      "6 * 4 = 24\n",
      "7 * 4 = 28\n",
      "8 * 4 = 32\n",
      "9 * 4 = 36\n",
      "The multiplication table of 1 is:\n",
      "1 x 1 = 1\n",
      "2 x 1 = 2\n",
      "3 x 1 = 3\n",
      "4 x 1 = 4\n",
      "5 x 1 = 5\n",
      "6 x 1 = 6\n",
      "7 x 1 = 7\n",
      "8 x 1 = 8\n",
      "9 x 1 = 9\n",
      "The multiplication table of 2 is:\n",
      "1 x 2 = 2\n",
      "2 x 2 = 4\n",
      "3 x 2 = 6\n",
      "4 x 2 = 8\n",
      "5 x 2 = 10\n",
      "6 x 2 = 12\n",
      "7 x 2 = 14\n",
      "8 x 2 = 16\n",
      "9 x 2 = 18\n",
      "The multiplication table of 3 is:\n",
      "1 x 3 = 3\n",
      "2 x 3 = 6\n",
      "3 x 3 = 9\n",
      "4 x 3 = 12\n",
      "5 x 3 = 15\n",
      "6 x 3 = 18\n",
      "7 x 3 = 21\n",
      "8 x 3 = 24\n",
      "9 x 3 = 27\n",
      "The multiplication table of 4 is:\n",
      "1 x 4 = 4\n",
      "2 x 4 = 8\n",
      "3 x 4 = 12\n",
      "4 x 4 = 16\n",
      "5 x 4 = 20\n",
      "6 x 4 = 24\n",
      "7 x 4 = 28\n",
      "8 x 4 = 32\n",
      "9 x 4 = 36\n",
      "The multiplication table of 5 is:\n",
      "1 x 5 = 5\n",
      "2 x 5 = 10\n",
      "3 x 5 = 15\n",
      "4 x 5 = 20\n",
      "5 x 5 = 25\n",
      "6 x 5 = 30\n",
      "7 x 5 = 35\n",
      "8 x 5 = 40\n",
      "9 x 5 = 45\n",
      "The multiplication table of 6 is:\n",
      "1 x 6 = 6\n",
      "2 x 6 = 12\n",
      "3 x 6 = 18\n",
      "4 x 6 = 24\n",
      "5 x 6 = 30\n",
      "6 x 6 = 36\n",
      "7 x 6 = 42\n",
      "8 x 6 = 48\n",
      "9 x 6 = 54\n",
      "The multiplication table of 7 is:\n",
      "1 x 7 = 7\n",
      "2 x 7 = 14\n",
      "3 x 7 = 21\n",
      "4 x 7 = 28\n",
      "5 x 7 = 35\n",
      "6 x 7 = 42\n",
      "7 x 7 = 49\n",
      "8 x 7 = 56\n",
      "9 x 7 = 63\n",
      "The multiplication table of 8 is:\n",
      "1 x 8 = 8\n",
      "2 x 8 = 16\n",
      "3 x 8 = 24\n",
      "4 x 8 = 32\n",
      "5 x 8 = 40\n",
      "6 x 8 = 48\n",
      "7 x 8 = 56\n",
      "8 x 8 = 64\n",
      "9 x 8 = 72\n",
      "The multiplication table of 9 is:\n",
      "1 x 9 = 9\n",
      "2 x 9 = 18\n",
      "3 x 9 = 27\n",
      "4 x 9 = 36\n",
      "5 x 9 = 45\n",
      "6 x 9 = 54\n",
      "7 x 9 = 63\n",
      "8 x 9 = 72\n",
      "9 x 9 = 81\n"
     ]
    }
   ],
   "source": [
    "# Create a tableMult() method which creates and displays the multiplication table of a given integer. Then create an allTablesMult() method to display all the integer multiplication tables 1, 2, 3, ..., 9.\n",
    "\n",
    "k=int(input(\"Enter a number :\")) \n",
    "class calculation:\n",
    "    def tableMult (self, k):\n",
    "        for i in range (1,10):\n",
    "            print (i, \"*\", k, \"=\", i * k)\n",
    "    def allTables (self):\n",
    "        for k in range (1,10):\n",
    "            print (\"The multiplication table of\", k, \"is:\")\n",
    "            for i in range (1,10):\n",
    "                print (i, \"x\", k, \"=\", i * k)\n",
    "num=calculation()\n",
    "num.tableMult(k)\n",
    "num.allTables()"
   ]
  },
  {
   "cell_type": "code",
   "execution_count": 48,
   "id": "c948a237",
   "metadata": {},
   "outputs": [
    {
     "name": "stdout",
     "output_type": "stream",
     "text": [
      "divisors of 15 = [1, 3, 5, 15]\n",
      "prime divisors of 15 = [1, 3, 5]\n"
     ]
    }
   ],
   "source": [
    "# Create a static listDiv() method that gets all the divisors of a given integer on new list called Ldiv. Create another listDivPrim() method that gets all the prime divisors of a given integer.\n",
    "\n",
    "n=int(input(\"Enter a number :\"))\n",
    "class calculation:\n",
    "    def listDiv(self,n):\n",
    "        Ldiv=[]\n",
    "        for i in range(1,n+1):\n",
    "            if n%i==0:\n",
    "                Ldiv.append(i)\n",
    "        return Ldiv\n",
    "    def testPrim(self,n):\n",
    "        for i in range(2,n):\n",
    "            if n <= 1:\n",
    "                return False\n",
    "            if n%i==0:\n",
    "                return False\n",
    "        return True\n",
    "    def listDivPrim(self,n):\n",
    "        LdivPrim=[]\n",
    "        for i in range(1,n+1):    \n",
    "            if n%i==0 and self.testPrim(i):\n",
    "                LdivPrim.append(i)\n",
    "        return LdivPrim\n",
    "\n",
    "num=calculation()\n",
    "print(f\"divisors of {n} =\",num.listDiv(n))\n",
    "print(f\"prime divisors of {n} =\",num.listDivPrim(n))"
   ]
  }
 ],
 "metadata": {
  "kernelspec": {
   "display_name": "Python 3",
   "language": "python",
   "name": "python3"
  },
  "language_info": {
   "codemirror_mode": {
    "name": "ipython",
    "version": 3
   },
   "file_extension": ".py",
   "mimetype": "text/x-python",
   "name": "python",
   "nbconvert_exporter": "python",
   "pygments_lexer": "ipython3",
   "version": "3.13.1"
  }
 },
 "nbformat": 4,
 "nbformat_minor": 5
}
