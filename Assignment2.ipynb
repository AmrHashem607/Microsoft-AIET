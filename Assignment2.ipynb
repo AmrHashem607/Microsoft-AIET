{
 "cells": [
  {
   "cell_type": "code",
   "execution_count": 34,
   "metadata": {},
   "outputs": [
    {
     "name": "stdout",
     "output_type": "stream",
     "text": [
      "[(10, 20, 100), (50, 60, 100), (30, 60, 100)]\n"
     ]
    }
   ],
   "source": [
    "# Write a Python program to replace the last value of tuples in a list\n",
    "l=[(10,20,30),(50,60,70),(30,60,90)]\n",
    "r=[]\n",
    "for m in l :\n",
    "    m=m[:-1]+(100,)\n",
    "    r.append(m)\n",
    "print(r)"
   ]
  },
  {
   "cell_type": "code",
   "execution_count": null,
   "metadata": {},
   "outputs": [
    {
     "name": "stdout",
     "output_type": "stream",
     "text": [
      "{'A': 5, 'B': 6}\n"
     ]
    }
   ],
   "source": [
    "# Write a Python program to convert a list of tuples into a dictionary.\n",
    "l=[(\"A\",5),(\"B\",6)]\n",
    "d=dict(l)\n",
    "print(d)"
   ]
  },
  {
   "cell_type": "code",
   "execution_count": 16,
   "metadata": {},
   "outputs": [
    {
     "name": "stdout",
     "output_type": "stream",
     "text": [
      "[('B', 6), ('A', 5)]\n"
     ]
    }
   ],
   "source": [
    "# Write a Python program to sort a tuple by its float element.\n",
    "l=[(\"A\",5),(\"B\",6)]\n",
    "l.sort(reverse=True)\n",
    "print(l)"
   ]
  },
  {
   "cell_type": "code",
   "execution_count": 27,
   "metadata": {},
   "outputs": [
    {
     "name": "stdout",
     "output_type": "stream",
     "text": [
      "The no is 5\n",
      "0\n",
      "1\n",
      "1\n",
      "2\n",
      "3\n"
     ]
    }
   ],
   "source": [
    "# Implement Fibonacci series using recursion.\n",
    "n=int(input())\n",
    "print(\"The no is\",n)\n",
    "for a in range(n):\n",
    "    print(fibonacci(a))"
   ]
  },
  {
   "cell_type": "code",
   "execution_count": 56,
   "metadata": {},
   "outputs": [
    {
     "name": "stdout",
     "output_type": "stream",
     "text": [
      "Counter({'amr': 2, 'mo': 2})\n"
     ]
    }
   ],
   "source": [
    "# Write a Python program to find all the unique words and count the frequency of occurrence from a given list of strings.\n",
    "from collections import Counter\n",
    "st=['amr','mo','amr','mo']\n",
    "count= Counter(st)\n",
    "print(count)\n"
   ]
  },
  {
   "cell_type": "code",
   "execution_count": 26,
   "metadata": {},
   "outputs": [
    {
     "name": "stdout",
     "output_type": "stream",
     "text": [
      "[(8, 2), (2, 8), (4, 6), (6, 4), (9, 1), (1, 9)]\n"
     ]
    }
   ],
   "source": [
    "# Write a Python program that finds all pairs of elements in a list whose sum is equal to a given value\n",
    "l=[1,2,6,8,2,4,6,9,1]\n",
    "n=set()\n",
    "r=[]\n",
    "s=10\n",
    "for i in l:\n",
    "    m=s-i\n",
    "    if m in n:\n",
    "        r.append((i,m))\n",
    "    n.add(i)\n",
    "print(r)\n"
   ]
  },
  {
   "cell_type": "code",
   "execution_count": null,
   "metadata": {},
   "outputs": [
    {
     "name": "stdout",
     "output_type": "stream",
     "text": [
      "(9, 10)\n"
     ]
    }
   ],
   "source": [
    "#write a Python program to find the two numbers whose product is maximum among all the pairs in a given list of numbers\n",
    "l=[5,9,5,8,6,7,6,10]\n",
    "n=len(l)\n",
    "s=set(l)\n",
    "a=l[0]\n",
    "b=l[1]\n",
    "for i in range(0,n):\n",
    "    for x in range (i+1,n):\n",
    "        if l[i]*l[x]>a*b:\n",
    "            a=l[i];b=l[x]\n",
    "print(f\"{ a , b }\")"
   ]
  },
  {
   "cell_type": "code",
   "execution_count": 29,
   "metadata": {},
   "outputs": [
    {
     "name": "stdout",
     "output_type": "stream",
     "text": [
      "The num  15 is not prime\n",
      "Because the  15 is = 3 * 5\n"
     ]
    }
   ],
   "source": [
    "#Write a Python function that takes a number as a parameter and checks whether the number is prime or not.\n",
    "num=int(input())\n",
    "if num==0 or num==1:\n",
    "    print(\"the num is not prime\")\n",
    "elif num>1:\n",
    "    for i in range(2,num):\n",
    "        if (num%i)==0:\n",
    "            print(f\"The num \",num,\"is not prime\")\n",
    "            print(\"Because the \",num,'is =',(i),\"*\",(num//i))\n",
    "            break\n",
    "    else:\n",
    "         print(num,\"is prime\")\n",
    "\n"
   ]
  },
  {
   "cell_type": "code",
   "execution_count": 2,
   "metadata": {},
   "outputs": [
    {
     "name": "stdout",
     "output_type": "stream",
     "text": [
      "[1, 4, 8, 9, 7, 10, 20, 40]\n",
      "The even number is  4\n",
      "The even number is  8\n",
      "The even number is  10\n",
      "The even number is  20\n",
      "The even number is  40\n"
     ]
    }
   ],
   "source": [
    "#Write a Python function to print the even numbers from a given list.\n",
    "l=list(map(int,input(list).split()))  #list input from user (int num)\n",
    "print(l)\n",
    "for i in l:\n",
    "    if (i%2)==0:\n",
    "        print(\"The even number is \",i)"
   ]
  },
  {
   "cell_type": "code",
   "execution_count": null,
   "metadata": {},
   "outputs": [
    {
     "name": "stdout",
     "output_type": "stream",
     "text": [
      "['Amr', 'hashem']\n",
      "hashem Amr\n"
     ]
    }
   ],
   "source": [
    "#Write a function that will take a given string and reverse the order of words.\n",
    "s=input(\"Enter string :\")\n",
    "m=s.split()\n",
    "print(m)\n",
    "m.reverse()\n",
    "r=' '.join(m)\n",
    "print(r)"
   ]
  },
  {
   "cell_type": "code",
   "execution_count": 85,
   "metadata": {},
   "outputs": [
    {
     "name": "stdout",
     "output_type": "stream",
     "text": [
      "sasas\n",
      "palindrome\n"
     ]
    }
   ],
   "source": [
    "#Write a Python function that checks whether a passed string is a palindrome or not.\n",
    "n=input(\"Enter string :\")\n",
    "print(n) \n",
    "if n==n[::-1]:\n",
    "    print(\"palindrome\")\n",
    "else:\n",
    "    print(\"not palindrome\")\n"
   ]
  },
  {
   "cell_type": "code",
   "execution_count": 18,
   "metadata": {},
   "outputs": [
    {
     "name": "stdout",
     "output_type": "stream",
     "text": [
      "[1, 4, 9, 16, 25, 36, 49, 64, 81, 100, 121, 144, 169, 196, 225, 256, 289, 324, 361, 400, 441, 484, 529, 576, 625, 676, 729, 784, 841, 900]\n"
     ]
    }
   ],
   "source": [
    "#Write a Python function to create and print a list where the values are the squares of numbers between 1 and 30 (both included)\n",
    "squares = [x**2 for x in range(1, 31)] \n",
    "print(squares)"
   ]
  },
  {
   "cell_type": "code",
   "execution_count": 9,
   "metadata": {},
   "outputs": [
    {
     "name": "stdout",
     "output_type": "stream",
     "text": [
      "The list is  [1, 2, 8, 4, 7, 3, 9]\n",
      "1.add item\n",
      "2.delete item\n",
      "3.sort item\n",
      "4.reverse item\n",
      "5.clear item\n",
      "6. specific element in it\n",
      "7.exit item\n",
      "THE NEW LIST IS : [1, 2, 3, 4, 7, 8, 9]\n",
      "The list is  [1, 2, 3, 4, 7, 8, 9]\n",
      "1.add item\n",
      "2.delete item\n",
      "3.sort item\n",
      "4.reverse item\n",
      "5.clear item\n",
      "6. specific element in it\n",
      "7.exit item\n",
      "THE NEW LIST IS : [1, 2, 3, 4, 7, 8, 9]\n",
      "The list is  [1, 2, 3, 4, 7, 8, 9]\n",
      "1.add item\n",
      "2.delete item\n",
      "3.sort item\n",
      "4.reverse item\n",
      "5.clear item\n",
      "6. specific element in it\n",
      "7.exit item\n",
      "specific element in it : 2\n",
      "The list is  [1, 2, 3, 4, 7, 8, 9]\n",
      "1.add item\n",
      "2.delete item\n",
      "3.sort item\n",
      "4.reverse item\n",
      "5.clear item\n",
      "6. specific element in it\n",
      "7.exit item\n",
      "specific element in it : 4\n",
      "The list is  [1, 2, 3, 4, 7, 8, 9]\n",
      "1.add item\n",
      "2.delete item\n",
      "3.sort item\n",
      "4.reverse item\n",
      "5.clear item\n",
      "6. specific element in it\n",
      "7.exit item\n",
      "Exit the program\n"
     ]
    }
   ],
   "source": [
    "#Write a python program to take a list from a user and after it print menu massage contains 7 options add item or delete item or sort list or reverse it or clear or access specific element in it or exit and still work till write exit .\n",
    "l=list(map(int,input(\"Enter your value : \").split()))\n",
    "\n",
    "Choice=0\n",
    "while True:\n",
    "    print(\"The list is \",l)\n",
    "    print(\"1.add item\")\n",
    "    print(\"2.delete item\")\n",
    "    print(\"3.sort item\")\n",
    "    print(\"4.reverse item\")\n",
    "    print(\"5.clear item\")\n",
    "    print(\"6. specific element in it\")\n",
    "    print(\"7.exit item\")\n",
    "    Choice=int(input(\"enter your choice (1-7) :\"))\n",
    "    if Choice==1:\n",
    "        a=int(input(\"Enter value :\"))\n",
    "        l.append(a)\n",
    "        print(\"THE NEW LIST IS :\",l)\n",
    "    elif Choice==2 :\n",
    "        a=int(input(\"Enter value :\"))\n",
    "        if a in l:\n",
    "            l.remove(a)\n",
    "            print(\"THE NEW LIST IS :\",l)\n",
    "        else:\n",
    "            print(\"not found\")\n",
    "    elif Choice==3 :\n",
    "        l.sort()\n",
    "        print(\"THE NEW LIST IS :\",l)\n",
    "    elif Choice==4 :\n",
    "        l=l[::-1]\n",
    "        print(\"THE NEW LIST IS :\",l)\n",
    "    elif Choice==5 :\n",
    "        l=l.clear()\n",
    "        print(\"THE NEW LIST IS :\",l)\n",
    "    elif Choice==6 :\n",
    "        a=int(input(\"Enter value :\"))\n",
    "        if a in l:\n",
    "            a=l.index(a)\n",
    "            print(\"specific element in it :\",a)\n",
    "        else :\n",
    "            print(\"not found\")\n",
    "    elif Choice==7 :\n",
    "        print(\"Exit the program\")\n",
    "        break\n",
    "       \n",
    "        "
   ]
  }
 ],
 "metadata": {
  "kernelspec": {
   "display_name": "Python 3",
   "language": "python",
   "name": "python3"
  },
  "language_info": {
   "codemirror_mode": {
    "name": "ipython",
    "version": 3
   },
   "file_extension": ".py",
   "mimetype": "text/x-python",
   "name": "python",
   "nbconvert_exporter": "python",
   "pygments_lexer": "ipython3",
   "version": "3.13.1"
  }
 },
 "nbformat": 4,
 "nbformat_minor": 2
}
