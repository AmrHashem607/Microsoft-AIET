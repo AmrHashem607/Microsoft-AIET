{
 "cells": [
  {
   "cell_type": "code",
   "execution_count": null,
   "id": "92c8b2f8",
   "metadata": {},
   "outputs": [
    {
     "name": "stdout",
     "output_type": "stream",
     "text": [
      "Addition of vector is: [2, 4, 6]\n"
     ]
    }
   ],
   "source": [
    "# Vector addition\n",
    "v1=list(map(int,input(\"Enter first vector :\").split()))\n",
    "v2=list(map(int,input(\"Enter second vector :\").split()))\n",
    "class add:\n",
    "    def add_vector(self, v1, v2):\n",
    "        r=[]\n",
    "        for i in range(len(v1)):\n",
    "            r.append(v1[i]+v2[i])\n",
    "        return r\n",
    "result=add() \n",
    "print(\"Addition of vector is:\",result.add_vector(v1,v2))"
   ]
  },
  {
   "cell_type": "code",
   "execution_count": null,
   "id": "6ff142c5",
   "metadata": {},
   "outputs": [
    {
     "name": "stdout",
     "output_type": "stream",
     "text": [
      "SubtractionAddition of vector is: [0, -2, 1]\n"
     ]
    }
   ],
   "source": [
    "# Vector Subtraction\n",
    "v1=list(map(int,input(\"Enter first vector :\").split()))\n",
    "v2=list(map(int,input(\"Enter second vector :\").split()))\n",
    "class add:\n",
    "    def add_vector(self, v1, v2):\n",
    "        r=[]\n",
    "        for i in range(len(v1)):\n",
    "            r.append(v1[i]-v2[i])\n",
    "        return r\n",
    "result=add()  \n",
    "print(\"SubtractionAddition of vector is:\",result.add_vector(v1,v2))"
   ]
  },
  {
   "cell_type": "code",
   "execution_count": null,
   "id": "8a025a42",
   "metadata": {},
   "outputs": [
    {
     "name": "stdout",
     "output_type": "stream",
     "text": [
      "Multiplication of vector is: [1, 4, 9]\n"
     ]
    }
   ],
   "source": [
    "# Vector/Scaler Multiplication\n",
    "\n",
    "v1=list(map(int,input(\"Enter first vector :\").split()))\n",
    "v2=list(map(int,input(\"Enter second vector :\").split()))\n",
    "class add:\n",
    "    def add_vector(self, v1, v2):\n",
    "        r=[]\n",
    "        for i in range(len(v1)):\n",
    "            r.append(v1[i]*v2[i])\n",
    "        return r\n",
    "result=add()\n",
    "print(\"Scaler Multiplication of vector is:\",result.add_vector(v1,v2))"
   ]
  },
  {
   "cell_type": "code",
   "execution_count": null,
   "id": "ecffd826",
   "metadata": {},
   "outputs": [
    {
     "name": "stdout",
     "output_type": "stream",
     "text": [
      "Scaler Multiplication of vector is: 26\n"
     ]
    }
   ],
   "source": [
    "# Dot Product Multiplication\n",
    "v1=list(map(int,input(\"Enter first vector :\").split()))\n",
    "v2=list(map(int,input(\"Enter second vector :\").split()))\n",
    "class add:\n",
    "    def add_vector(self, v1, v2):\n",
    "        r=0\n",
    "        for i in range(len(v1)):\n",
    "            r=r+(v1[i]*v2[i])\n",
    "        return r\n",
    "result=add()\n",
    "print(\"Dot Product Multiplication of vector is:\",result.add_vector(v1,v2))"
   ]
  },
  {
   "cell_type": "code",
   "execution_count": null,
   "id": "e32d217b",
   "metadata": {},
   "outputs": [
    {
     "name": "stdout",
     "output_type": "stream",
     "text": [
      "\n",
      "Matrix 1:\n",
      "[1, 2, 3]\n",
      "[4, 5, 6]\n",
      "[7, 8, 91]\n",
      "\n",
      "Matrix 2:\n",
      "[2, 5, 7]\n",
      "[8, 6, 9]\n",
      "[3, 4, 5]\n",
      "\n",
      "Result Matrix is:\n",
      "[3, 7, 10]\n",
      "[12, 11, 15]\n",
      "[10, 12, 96]\n"
     ]
    }
   ],
   "source": [
    "# Matrix Addition\n",
    "rows = int(input(\"Enter the number of rows: \"))\n",
    "cols = int(input(\"Enter the number of columns: \"))  \n",
    "\n",
    "class matrix:\n",
    "    def __init__(self,rows,cols):\n",
    "        self.rows=rows\n",
    "        self.cols=cols\n",
    "    def input_matrix(self):\n",
    "        matrix=[]\n",
    "        for i in range(self.rows):\n",
    "            row=[]\n",
    "            for j in range(cols):\n",
    "                value=int(input(f\"Enter element [{i}][{j}]: \"))\n",
    "                row.append(value)\n",
    "            matrix.append(row)\n",
    "        return matrix\n",
    "    def add_matrix(self,matrix1,matrix2):\n",
    "        result=[]\n",
    "        for i in range(self.rows):\n",
    "            row=[]\n",
    "            for j in range(self.cols):\n",
    "                row.append(matrix1[i][j]+matrix2[i][j])\n",
    "            result.append(row)\n",
    "        return result\n",
    "mat=matrix(rows,cols)\n",
    "matrix1=mat.input_matrix()\n",
    "matrix2=mat.input_matrix()\n",
    "print(\"\\nMatrix 1:\")\n",
    "for row in matrix1:\n",
    "    print(row)\n",
    "\n",
    "print(\"\\nMatrix 2:\")\n",
    "for row in matrix2:\n",
    "    print(row)\n",
    "result=mat.add_matrix(matrix1,matrix2)\n",
    "\n",
    "print(\"\\nResult Matrix is:\")\n",
    "for row in result:\n",
    "    print(row)"
   ]
  },
  {
   "cell_type": "code",
   "execution_count": null,
   "id": "b750211f",
   "metadata": {},
   "outputs": [
    {
     "name": "stdout",
     "output_type": "stream",
     "text": [
      "\n",
      "Matrix 1:\n",
      "[1, 2, 3]\n",
      "[4, 5, 6]\n",
      "[7, 8, 9]\n",
      "\n",
      "Matrix 2:\n",
      "[2, 5, 7]\n",
      "[8, 6, 9]\n",
      "[3, 4, 5]\n",
      "\n",
      "Result Matrix is:\n",
      "[-1, -3, -4]\n",
      "[-4, -1, -3]\n",
      "[4, 4, 4]\n"
     ]
    }
   ],
   "source": [
    "# Matrix Subtraction\n",
    "rows = int(input(\"Enter the number of rows: \"))\n",
    "cols = int(input(\"Enter the number of columns: \"))  \n",
    "\n",
    "class matrix:\n",
    "    def __init__(self,rows,cols):\n",
    "        self.rows=rows\n",
    "        self.cols=cols\n",
    "    def input_matrix(self):\n",
    "        matrix=[]\n",
    "        for i in range(self.rows):\n",
    "            row=[]\n",
    "            for j in range(cols):\n",
    "                value=int(input(f\"Enter element [{i}][{j}]: \"))\n",
    "                row.append(value)\n",
    "            matrix.append(row)\n",
    "        return matrix\n",
    "    def Subtraction_matrix(self,matrix1,matrix2):\n",
    "        result=[]\n",
    "        for i in range(self.rows):\n",
    "            row=[]\n",
    "            for j in range(self.cols):\n",
    "                row.append(matrix1[i][j]-matrix2[i][j])\n",
    "            result.append(row)\n",
    "        return result\n",
    "mat=matrix(rows,cols)\n",
    "matrix1=mat.input_matrix()\n",
    "matrix2=mat.input_matrix()\n",
    "print(\"\\nMatrix 1:\")\n",
    "for row in matrix1:\n",
    "    print(row)\n",
    "\n",
    "print(\"\\nMatrix 2:\")\n",
    "for row in matrix2:\n",
    "    print(row)\n",
    "result=mat.Subtraction_matrix(matrix1,matrix2)\n",
    "\n",
    "print(\"\\nResult Matrix is:\")\n",
    "for row in result:\n",
    "    print(row)"
   ]
  },
  {
   "cell_type": "code",
   "execution_count": null,
   "id": "4a917899",
   "metadata": {},
   "outputs": [
    {
     "name": "stdout",
     "output_type": "stream",
     "text": [
      "\n",
      "Matrix 1:\n",
      "[1, 2, 3]\n",
      "[4, 5, 6]\n",
      "[7, 8, 9]\n",
      "\n",
      "Matrix 2:\n",
      "[1, 2, 5]\n",
      "[7, 5, 3]\n",
      "[4, 1, 2]\n",
      "\n",
      "Result Matrix is:\n",
      "[1, 4, 15]\n",
      "[28, 25, 18]\n",
      "[28, 8, 18]\n"
     ]
    }
   ],
   "source": [
    "# Matrix Elementwise MultiplicationMultiplication\n",
    "rows = int(input(\"Enter the number of rows: \"))\n",
    "cols = int(input(\"Enter the number of columns: \"))  \n",
    "\n",
    "class matrix:\n",
    "    def __init__(self,rows,cols):\n",
    "        self.rows=rows\n",
    "        self.cols=cols\n",
    "    def input_matrix(self):\n",
    "        matrix=[]\n",
    "        for i in range(self.rows):\n",
    "            row=[]\n",
    "            for j in range(cols):\n",
    "                value=int(input(f\"Enter element [{i}][{j}]: \"))\n",
    "                row.append(value)\n",
    "            matrix.append(row)\n",
    "        return matrix\n",
    "    def Multi_matrix(self,matrix1,matrix2):\n",
    "        result=[]\n",
    "        for i in range(self.rows):\n",
    "            row=[]\n",
    "            for j in range(self.cols):\n",
    "                row.append(matrix1[i][j]*matrix2[i][j])\n",
    "            result.append(row)\n",
    "        return result\n",
    "mat=matrix(rows,cols)\n",
    "matrix1=mat.input_matrix()\n",
    "matrix2=mat.input_matrix()\n",
    "print(\"\\nMatrix 1:\")\n",
    "for row in matrix1:\n",
    "    print(row)\n",
    "\n",
    "print(\"\\nMatrix 2:\")\n",
    "for row in matrix2:\n",
    "    print(row)\n",
    "result=mat.Multi_matrix(matrix1,matrix2)\n",
    "\n",
    "print(\"\\nResult Matrix is:\")\n",
    "for row in result:\n",
    "    print(row)"
   ]
  },
  {
   "cell_type": "code",
   "execution_count": null,
   "id": "97124d98",
   "metadata": {},
   "outputs": [
    {
     "name": "stdout",
     "output_type": "stream",
     "text": [
      "\n",
      "Matrix 1:\n",
      "[1, 2, 3]\n",
      "[4, 5, 6]\n",
      "[7, 8, 9]\n",
      "\n",
      "Result Matrix is:\n",
      "[2, 4, 6]\n",
      "[8, 10, 12]\n",
      "[14, 16, 18]\n"
     ]
    }
   ],
   "source": [
    "# Matrix Scalar MultiplicationMultiplication:\n",
    "rows = int(input(\"Enter the number of rows: \"))\n",
    "cols = int(input(\"Enter the number of columns: \"))  \n",
    "\n",
    "class matrix:\n",
    "    def __init__(self,rows,cols):\n",
    "        self.rows=rows\n",
    "        self.cols=cols\n",
    "    def input_matrix(self):\n",
    "        matrix=[]\n",
    "        for i in range(self.rows):\n",
    "            row=[]\n",
    "            for j in range(cols):\n",
    "                value=int(input(f\"Enter element [{i}][{j}]: \"))\n",
    "                row.append(value)\n",
    "            matrix.append(row)\n",
    "        return matrix\n",
    "    def Multi_matrix(self,matrix1):\n",
    "        result=[]\n",
    "        for i in range(self.rows):\n",
    "            row=[]\n",
    "            for j in range(self.cols):\n",
    "                row.append(matrix1[i][j]*2)\n",
    "            result.append(row)\n",
    "        return result\n",
    "mat=matrix(rows,cols)\n",
    "matrix1=mat.input_matrix()\n",
    "print(\"\\nMatrix 1:\")\n",
    "for row in matrix1:\n",
    "    print(row)\n",
    "\n",
    "result=mat.Multi_matrix(matrix1)\n",
    "\n",
    "print(\"\\nResult Matrix is:\")\n",
    "for row in result:\n",
    "    print(row)"
   ]
  },
  {
   "cell_type": "code",
   "execution_count": null,
   "id": "56629190",
   "metadata": {},
   "outputs": [
    {
     "name": "stdout",
     "output_type": "stream",
     "text": [
      "\n",
      "Matrix 1:\n",
      "[1, 2, 3]\n",
      "[7, 2, 3]\n",
      "\n",
      "Matrix 2:\n",
      "[1, 2, 3]\n",
      "[2, 5, 6]\n",
      "[7, 2, 3]\n",
      "\n",
      "Result Matrix is:\n",
      "[26, 18, 24]\n",
      "[32, 30, 42]\n"
     ]
    }
   ],
   "source": [
    "# Matrix Dot product MultiplicationMultiplication:\n",
    "rows1= int(input(\"Enter the number of rows: \"))\n",
    "cols2= int(input(\"Enter the number of columns: \")) \n",
    "rows2=int(input(\"Enter the number of rows: \"))\n",
    "cols1=int(input(\"Enter the number of columns: \")) \n",
    "\n",
    "class matrix:\n",
    "    def __init__(self,rows,cols):\n",
    "        self.rows=rows\n",
    "        self.cols=cols\n",
    "    def input_matrix(self):\n",
    "        matrix=[]\n",
    "        for i in range(self.rows):\n",
    "            row=[]\n",
    "            for j in range(cols):\n",
    "                value=int(input(f\"Enter element [{i}][{j}]: \"))\n",
    "                row.append(value)\n",
    "            matrix.append(row)\n",
    "        return matrix\n",
    "    def Multi_matrix(self,matrix1,matrix2):\n",
    "        result=[]\n",
    "        for i in range(len(matrix1)):\n",
    "            row=[]\n",
    "            for j in range(len(matrix1[0])):\n",
    "                sum=0\n",
    "                for k in range(len(matrix2)):\n",
    "                 sum+=matrix1[i][k]*matrix2[k][j]\n",
    "                row.append(sum)\n",
    "            result.append(row)\n",
    "        return result\n",
    "\n",
    "if (cols1!=rows2):\n",
    "    print(\"Matrix multiplication is not possible\")\n",
    "else:\n",
    "    mat1=matrix(rows1,cols1)\n",
    "    matrix1=mat1.input_matrix()\n",
    "    mat2=matrix(rows2,cols2)\n",
    "    matrix2=mat2.input_matrix()\n",
    "    print(\"\\nMatrix 1:\")\n",
    "    for row in matrix1:\n",
    "        print(row)\n",
    "\n",
    "    print(\"\\nMatrix 2:\")\n",
    "    for row in matrix2:\n",
    "        print(row)\n",
    "    result=mat1.Multi_matrix(matrix1,matrix2)\n",
    "\n",
    "    print(\"\\nResult Matrix is:\")\n",
    "    for row in result:\n",
    "        print(row)\n"
   ]
  }
 ],
 "metadata": {
  "kernelspec": {
   "display_name": "Python 3",
   "language": "python",
   "name": "python3"
  },
  "language_info": {
   "codemirror_mode": {
    "name": "ipython",
    "version": 3
   },
   "file_extension": ".py",
   "mimetype": "text/x-python",
   "name": "python",
   "nbconvert_exporter": "python",
   "pygments_lexer": "ipython3",
   "version": "3.13.1"
  }
 },
 "nbformat": 4,
 "nbformat_minor": 5
}
